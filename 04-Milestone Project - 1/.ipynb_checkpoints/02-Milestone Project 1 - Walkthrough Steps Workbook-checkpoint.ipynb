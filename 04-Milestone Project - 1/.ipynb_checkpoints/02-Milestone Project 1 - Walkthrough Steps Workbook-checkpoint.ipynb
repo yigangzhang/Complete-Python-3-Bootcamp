{
 "cells": [
  {
   "cell_type": "markdown",
   "metadata": {},
   "source": [
    "# Milestone Project 1: Walkthrough Steps Workbook\n",
    "\n",
    "Below is a set of steps for you to follow to try to create the Tic Tac Toe Milestone Project game!"
   ]
  },
  {
   "cell_type": "markdown",
   "metadata": {},
   "source": [
    "#### Some suggested tools before you get started:\n",
    "To take input from a user:\n",
    "\n",
    "    player1 = input(\"Please pick a marker 'X' or 'O'\")\n",
    "    \n",
    "Note that input() takes in a string. If you need an integer value, use\n",
    "\n",
    "    position = int(input('Please enter a number'))\n",
    "    \n",
    "<br>To clear the screen between moves:\n",
    "\n",
    "    from IPython.display import clear_output\n",
    "    clear_output()\n",
    "    \n",
    "Note that clear_output() will only work in jupyter. To clear the screen in other IDEs, consider:\n",
    "\n",
    "    print('\\n'*100)\n",
    "    \n",
    "This scrolls the previous board up out of view. Now on to the program!"
   ]
  },
  {
   "cell_type": "markdown",
   "metadata": {},
   "source": [
    "**Step 1: Write a function that can print out a board. Set up your board as a list, where each index 1-9 corresponds with a number on a number pad, so you get a 3 by 3 board representation.**"
   ]
  },
  {
   "cell_type": "code",
   "execution_count": 23,
   "metadata": {},
   "outputs": [],
   "source": [
    "from IPython.display import clear_output\n",
    "\n",
    "def display_board(board):\n",
    "    clear_output\n",
    "    print(f'{board[7]}|{board[8]}|{board[9]}')\n",
    "    print(f'{board[4]}|{board[5]}|{board[6]}')\n",
    "    print(f'{board[1]}|{board[2]}|{board[3]}')"
   ]
  },
  {
   "cell_type": "markdown",
   "metadata": {},
   "source": [
    "**TEST Step 1:** run your function on a test version of the board list, and make adjustments as necessary"
   ]
  },
  {
   "cell_type": "code",
   "execution_count": 24,
   "metadata": {},
   "outputs": [
    {
     "name": "stdout",
     "output_type": "stream",
     "text": [
      "X|O|X\n",
      "O|X|O\n",
      "X|O|X\n"
     ]
    }
   ],
   "source": [
    "test_board = ['#','X','O','X','O','X','O','X','O','X']\n",
    "display_board(test_board)"
   ]
  },
  {
   "cell_type": "markdown",
   "metadata": {},
   "source": [
    "**Step 2: Write a function that can take in a player input and assign their marker as 'X' or 'O'. Think about using *while* loops to continually ask until you get a correct answer.**"
   ]
  },
  {
   "cell_type": "code",
   "execution_count": 25,
   "metadata": {},
   "outputs": [],
   "source": [
    "def player_input():\n",
    "    marker = ''\n",
    "    while marker != 'X' and marker != 'O':\n",
    "        marker = input(\"Player 1, choose X or O: \") \n",
    "    \n",
    "    player1 = marker\n",
    "    if player1 == 'X':\n",
    "        player2 = 'O'\n",
    "    else:\n",
    "        player2 = 'X'\n",
    "    \n",
    "    return (player1, player2)"
   ]
  },
  {
   "cell_type": "markdown",
   "metadata": {},
   "source": [
    "**TEST Step 2:** run the function to make sure it returns the desired output"
   ]
  },
  {
   "cell_type": "code",
   "execution_count": 5,
   "metadata": {},
   "outputs": [
    {
     "name": "stdout",
     "output_type": "stream",
     "text": [
      "Player 1, choose X or O: X\n"
     ]
    },
    {
     "data": {
      "text/plain": [
       "('X', 'O')"
      ]
     },
     "execution_count": 5,
     "metadata": {},
     "output_type": "execute_result"
    }
   ],
   "source": [
    "player_input()"
   ]
  },
  {
   "cell_type": "markdown",
   "metadata": {},
   "source": [
    "**Step 3: Write a function that takes in the board list object, a marker ('X' or 'O'), and a desired position (number 1-9) and assigns it to the board.**"
   ]
  },
  {
   "cell_type": "code",
   "execution_count": 26,
   "metadata": {},
   "outputs": [],
   "source": [
    "def place_marker(board, marker, position):\n",
    "    board[position] = marker"
   ]
  },
  {
   "cell_type": "markdown",
   "metadata": {},
   "source": [
    "**TEST Step 3:** run the place marker function using test parameters and display the modified board"
   ]
  },
  {
   "cell_type": "code",
   "execution_count": 7,
   "metadata": {},
   "outputs": [
    {
     "name": "stdout",
     "output_type": "stream",
     "text": [
      "X|$|X\n",
      "O|X|O\n",
      "X|O|X\n"
     ]
    }
   ],
   "source": [
    "place_marker(test_board,'$',8)\n",
    "display_board(test_board)"
   ]
  },
  {
   "cell_type": "markdown",
   "metadata": {},
   "source": [
    "**Step 4: Write a function that takes in a board and a mark (X or O) and then checks to see if that mark has won. **"
   ]
  },
  {
   "cell_type": "code",
   "execution_count": 27,
   "metadata": {},
   "outputs": [],
   "source": [
    "def win_check(board, mark):\n",
    "    for r in range(1,9,3):\n",
    "        if board[r] == board[r+1] == board[r+2] == mark:\n",
    "            return True\n",
    "    \n",
    "    for c in range(1,3):\n",
    "        if board[c] == board[c+3] == board[c+6] == mark:\n",
    "            return True\n",
    "    \n",
    "    if board[1] == board[5] == board[9] == mark:\n",
    "        return True\n",
    "        \n",
    "    if board[3] == board[5] == board[7] == mark:\n",
    "        return True\n",
    "    \n",
    "    return False"
   ]
  },
  {
   "cell_type": "markdown",
   "metadata": {},
   "source": [
    "**TEST Step 4:** run the win_check function against our test_board - it should return True"
   ]
  },
  {
   "cell_type": "code",
   "execution_count": 9,
   "metadata": {},
   "outputs": [
    {
     "data": {
      "text/plain": [
       "True"
      ]
     },
     "execution_count": 9,
     "metadata": {},
     "output_type": "execute_result"
    }
   ],
   "source": [
    "win_check(test_board,'X')"
   ]
  },
  {
   "cell_type": "markdown",
   "metadata": {},
   "source": [
    "**Step 5: Write a function that uses the random module to randomly decide which player goes first. You may want to lookup random.randint() Return a string of which player went first.**"
   ]
  },
  {
   "cell_type": "code",
   "execution_count": 28,
   "metadata": {},
   "outputs": [],
   "source": [
    "import random\n",
    "\n",
    "def choose_first():\n",
    "    return \"Player\" + str(random.randint(1, 2))"
   ]
  },
  {
   "cell_type": "code",
   "execution_count": 11,
   "metadata": {},
   "outputs": [
    {
     "data": {
      "text/plain": [
       "'Player1'"
      ]
     },
     "execution_count": 11,
     "metadata": {},
     "output_type": "execute_result"
    }
   ],
   "source": [
    "choose_first()"
   ]
  },
  {
   "cell_type": "markdown",
   "metadata": {},
   "source": [
    "**Step 6: Write a function that returns a boolean indicating whether a space on the board is freely available.**"
   ]
  },
  {
   "cell_type": "code",
   "execution_count": 29,
   "metadata": {},
   "outputs": [],
   "source": [
    "def space_check(board, position):\n",
    "    return board[position] != 'X' and board[position] != 'O'"
   ]
  },
  {
   "cell_type": "code",
   "execution_count": 30,
   "metadata": {},
   "outputs": [
    {
     "name": "stdout",
     "output_type": "stream",
     "text": [
      "X|O|X\n",
      "O|X|O\n",
      "X|#|X\n"
     ]
    },
    {
     "data": {
      "text/plain": [
       "True"
      ]
     },
     "execution_count": 30,
     "metadata": {},
     "output_type": "execute_result"
    }
   ],
   "source": [
    "test_board2 = ['#','X','#','X','O','X','O','X','O','X']\n",
    "display_board(test_board2)\n",
    "space_check(test_board2, 2)"
   ]
  },
  {
   "cell_type": "markdown",
   "metadata": {},
   "source": [
    "**Step 7: Write a function that checks if the board is full and returns a boolean value. True if full, False otherwise.**"
   ]
  },
  {
   "cell_type": "code",
   "execution_count": 31,
   "metadata": {},
   "outputs": [],
   "source": [
    "def full_board_check(board):\n",
    "    for n in range(1,10):\n",
    "        if space_check(board, n):\n",
    "            return False\n",
    "    \n",
    "    return True"
   ]
  },
  {
   "cell_type": "code",
   "execution_count": 32,
   "metadata": {},
   "outputs": [
    {
     "name": "stdout",
     "output_type": "stream",
     "text": [
      "X|O|X\n",
      "O|X|O\n",
      "X|E|X\n"
     ]
    },
    {
     "data": {
      "text/plain": [
       "False"
      ]
     },
     "execution_count": 32,
     "metadata": {},
     "output_type": "execute_result"
    }
   ],
   "source": [
    "test_board3 = ['#','X','E','X','O','X','O','X','O','X']\n",
    "display_board(test_board3)\n",
    "full_board_check(test_board3)"
   ]
  },
  {
   "cell_type": "markdown",
   "metadata": {},
   "source": [
    "**Step 8: Write a function that asks for a player's next position (as a number 1-9) and then uses the function from step 6 to check if it's a free position. If it is, then return the position for later use.**"
   ]
  },
  {
   "cell_type": "code",
   "execution_count": 33,
   "metadata": {},
   "outputs": [],
   "source": [
    "def player_choice(board):\n",
    "    position = ''\n",
    "\n",
    "    while not position.isdigit() or int(position) < 1 or int(position) > 9 or not space_check(board, int(position)):\n",
    "        position = input('Please enter your next position (from 1 to 9)')\n",
    "    \n",
    "    return int(position)"
   ]
  },
  {
   "cell_type": "code",
   "execution_count": 17,
   "metadata": {},
   "outputs": [
    {
     "name": "stdout",
     "output_type": "stream",
     "text": [
      "Please enter your next position (from 1 to 9)2\n"
     ]
    },
    {
     "data": {
      "text/plain": [
       "2"
      ]
     },
     "execution_count": 17,
     "metadata": {},
     "output_type": "execute_result"
    }
   ],
   "source": [
    "player_choice(test_board3)"
   ]
  },
  {
   "cell_type": "markdown",
   "metadata": {},
   "source": [
    "**Step 9: Write a function that asks the player if they want to play again and returns a boolean True if they do want to play again.**"
   ]
  },
  {
   "cell_type": "code",
   "execution_count": 18,
   "metadata": {},
   "outputs": [],
   "source": [
    "def replay():\n",
    "    again = ''\n",
    "    while again != 'Y' and again != 'N':\n",
    "        again = input(\"Do you want to play again? (Y/N)\")\n",
    "        \n",
    "    return again == 'Y'"
   ]
  },
  {
   "cell_type": "code",
   "execution_count": 19,
   "metadata": {},
   "outputs": [
    {
     "name": "stdout",
     "output_type": "stream",
     "text": [
      "Do you want to play again? (Y/N)Y\n"
     ]
    },
    {
     "data": {
      "text/plain": [
       "True"
      ]
     },
     "execution_count": 19,
     "metadata": {},
     "output_type": "execute_result"
    }
   ],
   "source": [
    "replay()"
   ]
  },
  {
   "cell_type": "markdown",
   "metadata": {
    "collapsed": true
   },
   "source": [
    "**Step 10: Here comes the hard part! Use while loops and the functions you've made to run the game!**"
   ]
  },
  {
   "cell_type": "code",
   "execution_count": 21,
   "metadata": {},
   "outputs": [
    {
     "name": "stdout",
     "output_type": "stream",
     "text": [
      "Welcome to Tic Tac Toe!\n",
      "Player 1, choose X or O: X\n",
      "#|#|#\n",
      "#|#|#\n",
      "#|#|#\n",
      "Player2's Turn\n",
      "Please enter your next position (from 1 to 9)1\n",
      "#|#|#\n",
      "#|#|#\n",
      "O|#|#\n",
      "Player1's Turn\n",
      "Please enter your next position (from 1 to 9)2\n",
      "#|#|#\n",
      "#|#|#\n",
      "O|X|#\n",
      "Player2's Turn\n",
      "Please enter your next position (from 1 to 9)3\n",
      "#|#|#\n",
      "#|#|#\n",
      "O|X|O\n",
      "Player1's Turn\n",
      "Please enter your next position (from 1 to 9)4\n",
      "#|#|#\n",
      "X|#|#\n",
      "O|X|O\n",
      "Player2's Turn\n",
      "Please enter your next position (from 1 to 9)5\n",
      "#|#|#\n",
      "X|O|#\n",
      "O|X|O\n",
      "Player1's Turn\n",
      "Please enter your next position (from 1 to 9)6\n",
      "#|#|#\n",
      "X|O|X\n",
      "O|X|O\n",
      "Player2's Turn\n",
      "Please enter your next position (from 1 to 9)8\n",
      "#|O|#\n",
      "X|O|X\n",
      "O|X|O\n",
      "Player1's Turn\n",
      "Please enter your next position (from 1 to 9)7\n",
      "X|O|#\n",
      "X|O|X\n",
      "O|X|O\n",
      "Player2's Turn\n",
      "Please enter your next position (from 1 to 9)9\n",
      "X|O|O\n",
      "X|O|X\n",
      "O|X|O\n",
      "Player2 Won!\n",
      "Do you want to play again? (Y/N)Y\n",
      "Player 1, choose X or O: 1\n",
      "Player 1, choose X or O: 2\n",
      "Player 1, choose X or O: 3\n",
      "Player 1, choose X or O: X\n",
      "#|#|#\n",
      "#|#|#\n",
      "#|#|#\n",
      "Player1's Turn\n",
      "Please enter your next position (from 1 to 9)1\n",
      "#|#|#\n",
      "#|#|#\n",
      "X|#|#\n",
      "Player2's Turn\n",
      "Please enter your next position (from 1 to 9)2\n",
      "#|#|#\n",
      "#|#|#\n",
      "X|O|#\n",
      "Player1's Turn\n",
      "Please enter your next position (from 1 to 9)3\n",
      "#|#|#\n",
      "#|#|#\n",
      "X|O|X\n",
      "Player2's Turn\n",
      "Please enter your next position (from 1 to 9)5\n",
      "#|#|#\n",
      "#|O|#\n",
      "X|O|X\n",
      "Player1's Turn\n",
      "Please enter your next position (from 1 to 9)8\n",
      "#|X|#\n",
      "#|O|#\n",
      "X|O|X\n",
      "Player2's Turn\n",
      "Please enter your next position (from 1 to 9)4\n",
      "#|X|#\n",
      "O|O|#\n",
      "X|O|X\n",
      "Player1's Turn\n",
      "Please enter your next position (from 1 to 9)6\n",
      "#|X|#\n",
      "O|O|X\n",
      "X|O|X\n",
      "Player2's Turn\n",
      "Please enter your next position (from 1 to 9)9\n",
      "#|X|O\n",
      "O|O|X\n",
      "X|O|X\n",
      "Player1's Turn\n",
      "Please enter your next position (from 1 to 9)7\n",
      "X|X|O\n",
      "O|O|X\n",
      "X|O|X\n",
      "All the grids are full. It is a Tie.\n",
      "Do you want to play again? (Y/N)Y\n",
      "Player 1, choose X or O: X\n",
      "#|#|#\n",
      "#|#|#\n",
      "#|#|#\n",
      "Player1's Turn\n",
      "Please enter your next position (from 1 to 9)1\n",
      "#|#|#\n",
      "#|#|#\n",
      "X|#|#\n",
      "Player2's Turn\n",
      "Please enter your next position (from 1 to 9)2\n",
      "#|#|#\n",
      "#|#|#\n",
      "X|O|#\n",
      "Player1's Turn\n",
      "Please enter your next position (from 1 to 9)3\n",
      "#|#|#\n",
      "#|#|#\n",
      "X|O|X\n",
      "Player2's Turn\n",
      "Please enter your next position (from 1 to 9)4\n",
      "#|#|#\n",
      "O|#|#\n",
      "X|O|X\n",
      "Player1's Turn\n",
      "Please enter your next position (from 1 to 9)5\n",
      "#|#|#\n",
      "O|X|#\n",
      "X|O|X\n",
      "Player2's Turn\n",
      "Please enter your next position (from 1 to 9)6\n",
      "#|#|#\n",
      "O|X|O\n",
      "X|O|X\n",
      "Player1's Turn\n",
      "Please enter your next position (from 1 to 9)7\n",
      "X|#|#\n",
      "O|X|O\n",
      "X|O|X\n",
      "Player1 Won!\n",
      "Do you want to play again? (Y/N)8\n",
      "Do you want to play again? (Y/N)9\n",
      "Do you want to play again? (Y/N)N\n"
     ]
    }
   ],
   "source": [
    "def player_move(board, marker):\n",
    "    place_marker(board, marker, player_choice(board))\n",
    "    display_board(board)\n",
    "    return win_check(board, marker)\n",
    "\n",
    "\n",
    "print('Welcome to Tic Tac Toe!')\n",
    "game_on = True\n",
    "    \n",
    "while game_on:\n",
    "#while True:\n",
    "    # Set the game up here\n",
    "    #pass\n",
    "    board = ['#','#','#','#','#','#','#','#','#','#']\n",
    "    (player1_marker, player2_marker) = player_input()\n",
    "    first = choose_first()\n",
    "    display_board(board)\n",
    "        \n",
    "    #while game_on:\n",
    "        #Player 1 Turn\n",
    "    over = False\n",
    "        \n",
    "    while not over:\n",
    "        if first == 'Player1':\n",
    "            print('Player1\\'s Turn')\n",
    "            if player_move(board, player1_marker):\n",
    "                over = True\n",
    "                print('Player1 Won!')\n",
    "                break\n",
    "            if full_board_check(board):\n",
    "                over = True\n",
    "                print('All the grids are full. It is a Tie.')\n",
    "                break\n",
    "                \n",
    "            print('Player2\\'s Turn')\n",
    "            if player_move(board, player2_marker):\n",
    "                over = True\n",
    "                print('Player2 Won!')\n",
    "                break\n",
    "        else:\n",
    "            print('Player2\\'s Turn')\n",
    "            if player_move(board, player2_marker):\n",
    "                over = True\n",
    "                print('Player2 Won!')\n",
    "                break\n",
    "            \n",
    "            print('Player1\\'s Turn')\n",
    "            if player_move(board, player1_marker):\n",
    "                over = True\n",
    "                print('Player1 Won!')\n",
    "                break\n",
    "        \n",
    "        # Player2's turn.\n",
    "            \n",
    "            #pass\n",
    "\n",
    "    #if not replay():\n",
    "        #break\n",
    "    game_on = replay()\n",
    "    over = False"
   ]
  },
  {
   "cell_type": "markdown",
   "metadata": {
    "collapsed": true
   },
   "source": [
    "## Good Job!"
   ]
  }
 ],
 "metadata": {
  "kernelspec": {
   "display_name": "Python 3",
   "language": "python",
   "name": "python3"
  }
 },
 "nbformat": 4,
 "nbformat_minor": 1
}
